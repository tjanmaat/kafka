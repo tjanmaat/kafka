{
 "cells": [
  {
   "cell_type": "markdown",
   "metadata": {
    "collapsed": true
   },
   "source": [
    "# Process notes\n",
    "This notebooks contains notes on the process of building this application. These notes can, for example, be about planning, decisions made in the process or research that I had to do."
   ]
  },
  {
   "cell_type": "markdown",
   "metadata": {},
   "source": [
    "## Challenge\n",
    "The challenge is to make a rudimentary application that processes some data using Docker, Kafka and Spark. I'm quite familiar with Docker, but have only seen Spark once briefly in college and are not familiar with Kafka at all. My plan is to start reading up on Kafka first, then Spark (and how to use it in combination with Kafka)."
   ]
  },
  {
   "cell_type": "markdown",
   "metadata": {},
   "source": [
    "### Kafka Tutorial\n",
    "I like the tutorials on medium/towardsdatascience as a starting point for such research. The tutorial on medium are often shallow, but I guess that is a pro in an assignment like this, as it allows me to get started quickly. My language of preference is python, so I start with this [tutorial](https://towardsdatascience.com/getting-started-with-apache-kafka-in-python-604b3250aa05). \n",
    "\n",
    "Before diving into the code of the tutorial, I decide to set up a docker container. Although the tutorial might be easier to run without one, it'll make it easier to copy stuff from the tutorial into my final project. \n",
    "\n",
    "Kafka requires a composition of multiple containers. I'm using the compose.yml-file from this [tutorial](https://www.baeldung.com/ops/kafka-docker-setup).\n",
    "\n",
    "I chose to implement a custom dockerfile in the kafka tutorial to use an entrypoint to run the script that makes producers. An alternative would be putting the right commands in a bash script. I prefered the custom dockerfile as producers are needed when starting the container anyway, which gives this solution a cleaner feel."
   ]
  },
  {
   "cell_type": "code",
   "execution_count": null,
   "metadata": {
    "pycharm": {
     "is_executing": true
    }
   },
   "outputs": [],
   "source": []
  }
 ],
 "metadata": {
  "kernelspec": {
   "display_name": "Python 3",
   "language": "python",
   "name": "python3"
  },
  "language_info": {
   "codemirror_mode": {
    "name": "ipython",
    "version": 3
   },
   "file_extension": ".py",
   "mimetype": "text/x-python",
   "name": "python",
   "nbconvert_exporter": "python",
   "pygments_lexer": "ipython3",
   "version": "3.7.6"
  }
 },
 "nbformat": 4,
 "nbformat_minor": 1
}