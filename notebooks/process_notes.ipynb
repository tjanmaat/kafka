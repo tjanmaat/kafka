{
 "cells": [
  {
   "cell_type": "markdown",
   "metadata": {
    "collapsed": true
   },
   "source": [
    "# Process notes\n",
    "This notebooks contains notes on the process of building this application. These notes can, for example, be about planning, decisions made in the process or research that I had to do."
   ]
  },
  {
   "cell_type": "markdown",
   "metadata": {},
   "source": [
    "## Challenge\n",
    "The challenge is to make a rudimentary application that processes some data using Docker, Kafka and Spark. I'm quite familiar with Docker, but have only seen Spark once briefly in college and are not familiar with Kafka at all. My plan is to start reading up on Kafka first, then Spark (and how to use it in combination with Kafka)."
   ]
  },
  {
   "cell_type": "markdown",
   "metadata": {},
   "source": [
    "### Kafka Tutorial\n",
    "I like the tutorials on medium/towardsdatascience as a starting point for such research. The tutorial on medium are often shallow, but I guess that is a pro in an assignment like this, as it allows me to get started quickly. My language of preference is python, so I start with this [tutorial](https://towardsdatascience.com/getting-started-with-apache-kafka-in-python-604b3250aa05). \n",
    "\n",
    "Before diving into the code of the tutorial, I decide to set up a docker container. Although the tutorial might be easier to run without one, it'll make it easier to copy stuff from the tutorial into my final project. \n",
    "\n",
    "Kafka requires a composition of multiple containers. I'm using the compose.yml-file from this [tutorial](https://www.baeldung.com/ops/kafka-docker-setup).\n",
    "\n",
    "I chose to implement a custom dockerfile in the kafka tutorial to use an entrypoint to run the script that makes producers. I wrote the commands to build the dockerfile and serve the containers into a bash file.\n",
    "\n",
    "The tutorial used BeautifulSoup to scrape recipes. I've never used it, but it was fun and quite easy to get to work with that package.\n",
    "\n",
    "At this point I draw the conclusion that the Kafka tutorial is taking more time than I planned. This is mostly caused by the choice to implement it with Docker right away. However, the project that I'm building in this tutorial does start to look like what I need to build for the challenge. Therefore I decide to finish up the tutorial, after which I'll research Spark, change the data source to a stream and if time allows it add some flavour with a fun transformation & data source."
   ]
  },
  {
   "cell_type": "markdown",
   "metadata": {},
   "source": [
    "### Spark\n",
    "For researching Spark, I again turn to medium tutorials. This time, I'm not as succesful, as no appropriate tutorial of high enough quality is available. One [tutorial](https://towardsdatascience.com/enabling-streaming-data-with-spark-structured-streaming-and-kafka-93ce91e5b435) comes close, but I'm running into some problems in implementing the code in my Kafka-Docker setup. However, I do take the streaming data source from this tutorial, a stream with all changes in wikipedia.\n",
    "\n",
    "In researching Spark I found out that this will require me to change the data source to a stream, as was part of the challenge. \n",
    "\n",
    "The Spark tutorial took more time than I had hoped. Thiswasis mostly caused by the issues I had implementing the medium tutorial mentioned in this section. After switching to the official Spark documentation as a source, I continued to make progress. However, I come to the conclusion that I won't have time to finish the whole challenge, as was expected. I decide to focus on making the presentation, to make sure I communicate the project in a structured way. With any spare time, I dive into writing the stream into a DB."
   ]
  },
  {
   "cell_type": "code",
   "execution_count": null,
   "metadata": {},
   "outputs": [],
   "source": []
  }
 ],
 "metadata": {
  "kernelspec": {
   "display_name": "Python 3",
   "language": "python",
   "name": "python3"
  },
  "language_info": {
   "codemirror_mode": {
    "name": "ipython",
    "version": 3
   },
   "file_extension": ".py",
   "mimetype": "text/x-python",
   "name": "python",
   "nbconvert_exporter": "python",
   "pygments_lexer": "ipython3",
   "version": "3.7.6"
  }
 },
 "nbformat": 4,
 "nbformat_minor": 1
}